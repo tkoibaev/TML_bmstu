{
  "cells": [
    {
      "cell_type": "markdown",
      "id": "61f0104c",
      "metadata": {
        "id": "61f0104c"
      },
      "source": [
        "# Задание рубежного контроля и входные данные"
      ]
    },
    {
      "cell_type": "markdown",
      "source": [
        "- Студент: Койбаев Тамерлан\n",
        "- Группа: ИУ5-61Б\n",
        "- Вариант 4\n",
        "- Датасет: https://www.kaggle.com/carlolepelaars/toy-dataset"
      ],
      "metadata": {
        "id": "I89VcQ0VQFh0"
      },
      "id": "I89VcQ0VQFh0"
    },
    {
      "cell_type": "markdown",
      "id": "3edb9357",
      "metadata": {
        "id": "3edb9357"
      },
      "source": [
        "### Задание"
      ]
    },
    {
      "cell_type": "markdown",
      "id": "e2639d1a",
      "metadata": {
        "id": "e2639d1a"
      },
      "source": [
        "- Для заданного набора данных построить модели классификации или регрессии (в зависимости от конкретной задачи, рассматриваемой в наборе данных).\n",
        "- Для построения моделей использовать методы 1 и 2.\n",
        "- Для построения моделей необходимо выполнить требуемую предобработку данных: заполнение пропусков, кодирование категориальных признаков, и т.д.\n",
        "- Оценить качество моделей на основе подходящих метрик качества (не менее двух метрик).\n",
        "- Какие метрики качества Вы использовали и почему? Какие выводы Вы можете сделать о качестве построенных моделей?"
      ]
    },
    {
      "cell_type": "markdown",
      "id": "12d86af5",
      "metadata": {
        "id": "12d86af5"
      },
      "source": [
        "### Методы"
      ]
    },
    {
      "cell_type": "markdown",
      "id": "3d53f057",
      "metadata": {
        "id": "3d53f057"
      },
      "source": [
        "- Метод 1 - Линейная/логистическая регрессия\n",
        "- Метод 2 - Случайный лес"
      ]
    },
    {
      "cell_type": "markdown",
      "id": "68341b70",
      "metadata": {
        "id": "68341b70"
      },
      "source": [
        "## Текстовое описание датасета"
      ]
    },
    {
      "cell_type": "markdown",
      "id": "beefaaee",
      "metadata": {
        "id": "beefaaee"
      },
      "source": [
        "В качестве набора данных используется датасет с вымышленными данными. Он имеет следующие атрибуты:"
      ]
    },
    {
      "cell_type": "markdown",
      "id": "051db7f9",
      "metadata": {
        "id": "051db7f9"
      },
      "source": [
        "- Number - порядковый номер - индекс для каждой строки\n",
        "- City - город - город проживания человека\n",
        "- Gender - пол - пол человека\n",
        "- Age - возраст - сколько человеку лет\n",
        "- Income - доход - годовой доход человека\n",
        "- Illness - болезнь - болеет ли человек"
      ]
    },
    {
      "cell_type": "markdown",
      "id": "7299fda7",
      "metadata": {
        "id": "7299fda7"
      },
      "source": [
        "## Импорт библиотек и загрузка данных"
      ]
    },
    {
      "cell_type": "markdown",
      "id": "2d6a3733",
      "metadata": {
        "id": "2d6a3733"
      },
      "source": [
        "Импортируем необходимые библиотеки:"
      ]
    },
    {
      "cell_type": "code",
      "execution_count": null,
      "id": "317c67f2",
      "metadata": {
        "id": "317c67f2"
      },
      "outputs": [],
      "source": [
        "import numpy as np\n",
        "import pandas as pd\n",
        "import seaborn as sns\n",
        "import matplotlib.pyplot as plt"
      ]
    },
    {
      "cell_type": "markdown",
      "id": "958d3a3c",
      "metadata": {
        "id": "958d3a3c"
      },
      "source": [
        "Загрузим датасет:"
      ]
    },
    {
      "cell_type": "code",
      "execution_count": null,
      "id": "11c5eba6",
      "metadata": {
        "id": "11c5eba6"
      },
      "outputs": [],
      "source": [
        "data = pd.read_csv('toy_dataset.csv')"
      ]
    },
    {
      "cell_type": "markdown",
      "id": "62ec3427",
      "metadata": {
        "id": "62ec3427"
      },
      "source": [
        "Выведем первые 5 строк датасета:"
      ]
    },
    {
      "cell_type": "code",
      "execution_count": null,
      "id": "c5d74251",
      "metadata": {
        "id": "c5d74251",
        "outputId": "ef431bc9-cbf2-4c79-a752-947c17c42952"
      },
      "outputs": [
        {
          "data": {
            "text/html": [
              "<div>\n",
              "<style scoped>\n",
              "    .dataframe tbody tr th:only-of-type {\n",
              "        vertical-align: middle;\n",
              "    }\n",
              "\n",
              "    .dataframe tbody tr th {\n",
              "        vertical-align: top;\n",
              "    }\n",
              "\n",
              "    .dataframe thead th {\n",
              "        text-align: right;\n",
              "    }\n",
              "</style>\n",
              "<table border=\"1\" class=\"dataframe\">\n",
              "  <thead>\n",
              "    <tr style=\"text-align: right;\">\n",
              "      <th></th>\n",
              "      <th>Number</th>\n",
              "      <th>City</th>\n",
              "      <th>Gender</th>\n",
              "      <th>Age</th>\n",
              "      <th>Income</th>\n",
              "      <th>Illness</th>\n",
              "    </tr>\n",
              "  </thead>\n",
              "  <tbody>\n",
              "    <tr>\n",
              "      <th>0</th>\n",
              "      <td>1</td>\n",
              "      <td>Dallas</td>\n",
              "      <td>Male</td>\n",
              "      <td>41</td>\n",
              "      <td>40367.0</td>\n",
              "      <td>No</td>\n",
              "    </tr>\n",
              "    <tr>\n",
              "      <th>1</th>\n",
              "      <td>2</td>\n",
              "      <td>Dallas</td>\n",
              "      <td>Male</td>\n",
              "      <td>54</td>\n",
              "      <td>45084.0</td>\n",
              "      <td>No</td>\n",
              "    </tr>\n",
              "    <tr>\n",
              "      <th>2</th>\n",
              "      <td>3</td>\n",
              "      <td>Dallas</td>\n",
              "      <td>Male</td>\n",
              "      <td>42</td>\n",
              "      <td>52483.0</td>\n",
              "      <td>No</td>\n",
              "    </tr>\n",
              "    <tr>\n",
              "      <th>3</th>\n",
              "      <td>4</td>\n",
              "      <td>Dallas</td>\n",
              "      <td>Male</td>\n",
              "      <td>40</td>\n",
              "      <td>40941.0</td>\n",
              "      <td>No</td>\n",
              "    </tr>\n",
              "    <tr>\n",
              "      <th>4</th>\n",
              "      <td>5</td>\n",
              "      <td>Dallas</td>\n",
              "      <td>Male</td>\n",
              "      <td>46</td>\n",
              "      <td>50289.0</td>\n",
              "      <td>No</td>\n",
              "    </tr>\n",
              "  </tbody>\n",
              "</table>\n",
              "</div>"
            ],
            "text/plain": [
              "   Number    City Gender  Age   Income Illness\n",
              "0       1  Dallas   Male   41  40367.0      No\n",
              "1       2  Dallas   Male   54  45084.0      No\n",
              "2       3  Dallas   Male   42  52483.0      No\n",
              "3       4  Dallas   Male   40  40941.0      No\n",
              "4       5  Dallas   Male   46  50289.0      No"
            ]
          },
          "execution_count": 3,
          "metadata": {},
          "output_type": "execute_result"
        }
      ],
      "source": [
        "data.head()"
      ]
    },
    {
      "cell_type": "markdown",
      "id": "d331113d",
      "metadata": {
        "id": "d331113d"
      },
      "source": [
        "Определим размер датасета:"
      ]
    },
    {
      "cell_type": "code",
      "execution_count": null,
      "id": "54a96d49",
      "metadata": {
        "id": "54a96d49",
        "outputId": "35e08cb4-119c-443f-851a-bc26ecbacfd9"
      },
      "outputs": [
        {
          "data": {
            "text/plain": [
              "(150000, 6)"
            ]
          },
          "execution_count": 4,
          "metadata": {},
          "output_type": "execute_result"
        }
      ],
      "source": [
        "data.shape"
      ]
    },
    {
      "cell_type": "markdown",
      "id": "159e9f4e",
      "metadata": {
        "id": "159e9f4e"
      },
      "source": [
        "Определим типы столбцов:"
      ]
    },
    {
      "cell_type": "code",
      "execution_count": null,
      "id": "ccfa457f",
      "metadata": {
        "id": "ccfa457f",
        "outputId": "7c9fc083-a177-4368-8601-ff6f679212bf"
      },
      "outputs": [
        {
          "data": {
            "text/plain": [
              "Number       int64\n",
              "City        object\n",
              "Gender      object\n",
              "Age          int64\n",
              "Income     float64\n",
              "Illness     object\n",
              "dtype: object"
            ]
          },
          "execution_count": 5,
          "metadata": {},
          "output_type": "execute_result"
        }
      ],
      "source": [
        "data.dtypes"
      ]
    },
    {
      "cell_type": "markdown",
      "id": "bc741563",
      "metadata": {
        "id": "bc741563"
      },
      "source": [
        "Часть столбцов имеют тип Object. Потребуется преобразование этих столбцов в числовые типы данных."
      ]
    },
    {
      "cell_type": "markdown",
      "id": "94732ba4",
      "metadata": {
        "id": "94732ba4"
      },
      "source": [
        "Уберем предупреждения:"
      ]
    },
    {
      "cell_type": "code",
      "execution_count": null,
      "id": "6fbfc07f",
      "metadata": {
        "id": "6fbfc07f"
      },
      "outputs": [],
      "source": [
        "import warnings\n",
        "warnings.filterwarnings('ignore')"
      ]
    },
    {
      "cell_type": "markdown",
      "id": "32c0a616",
      "metadata": {
        "id": "32c0a616"
      },
      "source": [
        "## Удаление столбцов"
      ]
    },
    {
      "cell_type": "markdown",
      "id": "8fe90e86",
      "metadata": {
        "id": "8fe90e86"
      },
      "source": [
        "Столбец Number не нужен для дальнейшего анализа, поэтому удалим его:"
      ]
    },
    {
      "cell_type": "code",
      "execution_count": null,
      "id": "23a33303",
      "metadata": {
        "id": "23a33303"
      },
      "outputs": [],
      "source": [
        "data = data.drop(columns=['Number'], axis=1)"
      ]
    },
    {
      "cell_type": "code",
      "execution_count": null,
      "id": "1fd5d398",
      "metadata": {
        "id": "1fd5d398",
        "outputId": "e7d0f04b-462f-422d-fa4e-43ee4fb1fec9"
      },
      "outputs": [
        {
          "data": {
            "text/html": [
              "<div>\n",
              "<style scoped>\n",
              "    .dataframe tbody tr th:only-of-type {\n",
              "        vertical-align: middle;\n",
              "    }\n",
              "\n",
              "    .dataframe tbody tr th {\n",
              "        vertical-align: top;\n",
              "    }\n",
              "\n",
              "    .dataframe thead th {\n",
              "        text-align: right;\n",
              "    }\n",
              "</style>\n",
              "<table border=\"1\" class=\"dataframe\">\n",
              "  <thead>\n",
              "    <tr style=\"text-align: right;\">\n",
              "      <th></th>\n",
              "      <th>City</th>\n",
              "      <th>Gender</th>\n",
              "      <th>Age</th>\n",
              "      <th>Income</th>\n",
              "      <th>Illness</th>\n",
              "    </tr>\n",
              "  </thead>\n",
              "  <tbody>\n",
              "    <tr>\n",
              "      <th>0</th>\n",
              "      <td>Dallas</td>\n",
              "      <td>Male</td>\n",
              "      <td>41</td>\n",
              "      <td>40367.0</td>\n",
              "      <td>No</td>\n",
              "    </tr>\n",
              "    <tr>\n",
              "      <th>1</th>\n",
              "      <td>Dallas</td>\n",
              "      <td>Male</td>\n",
              "      <td>54</td>\n",
              "      <td>45084.0</td>\n",
              "      <td>No</td>\n",
              "    </tr>\n",
              "    <tr>\n",
              "      <th>2</th>\n",
              "      <td>Dallas</td>\n",
              "      <td>Male</td>\n",
              "      <td>42</td>\n",
              "      <td>52483.0</td>\n",
              "      <td>No</td>\n",
              "    </tr>\n",
              "    <tr>\n",
              "      <th>3</th>\n",
              "      <td>Dallas</td>\n",
              "      <td>Male</td>\n",
              "      <td>40</td>\n",
              "      <td>40941.0</td>\n",
              "      <td>No</td>\n",
              "    </tr>\n",
              "    <tr>\n",
              "      <th>4</th>\n",
              "      <td>Dallas</td>\n",
              "      <td>Male</td>\n",
              "      <td>46</td>\n",
              "      <td>50289.0</td>\n",
              "      <td>No</td>\n",
              "    </tr>\n",
              "  </tbody>\n",
              "</table>\n",
              "</div>"
            ],
            "text/plain": [
              "     City Gender  Age   Income Illness\n",
              "0  Dallas   Male   41  40367.0      No\n",
              "1  Dallas   Male   54  45084.0      No\n",
              "2  Dallas   Male   42  52483.0      No\n",
              "3  Dallas   Male   40  40941.0      No\n",
              "4  Dallas   Male   46  50289.0      No"
            ]
          },
          "execution_count": 8,
          "metadata": {},
          "output_type": "execute_result"
        }
      ],
      "source": [
        "data.head()"
      ]
    },
    {
      "cell_type": "markdown",
      "id": "ada8e27e",
      "metadata": {
        "id": "ada8e27e"
      },
      "source": [
        "## Преобразование типов данных"
      ]
    },
    {
      "cell_type": "markdown",
      "id": "8e8b53a6",
      "metadata": {
        "id": "8e8b53a6"
      },
      "source": [
        "Проверим уникальные значения для столбца Сity:"
      ]
    },
    {
      "cell_type": "code",
      "execution_count": null,
      "id": "daa75f82",
      "metadata": {
        "id": "daa75f82",
        "outputId": "dd45813a-0236-4ee1-853c-34741f79cfa2"
      },
      "outputs": [
        {
          "data": {
            "text/plain": [
              "array(['Dallas', 'New York City', 'Los Angeles', 'Mountain View',\n",
              "       'Boston', 'Washington D.C.', 'San Diego', 'Austin'], dtype=object)"
            ]
          },
          "execution_count": 9,
          "metadata": {},
          "output_type": "execute_result"
        }
      ],
      "source": [
        "data['City'].unique()"
      ]
    },
    {
      "cell_type": "markdown",
      "id": "f16184d1",
      "metadata": {
        "id": "f16184d1"
      },
      "source": [
        "В качестве значений в столбце City могут быть следующие города: Dallas, New York City, Los Angeles, Mountain View, Boston, Washington D.C., San Diego and Austin. Таких значений 8."
      ]
    },
    {
      "cell_type": "markdown",
      "id": "154d6040",
      "metadata": {
        "id": "154d6040"
      },
      "source": [
        "Проверим уникальные значения для столбца Gender:"
      ]
    },
    {
      "cell_type": "code",
      "execution_count": null,
      "id": "84c8fdfa",
      "metadata": {
        "id": "84c8fdfa",
        "outputId": "f587dacd-70ce-4fb3-cc2a-01a0badf8a5b"
      },
      "outputs": [
        {
          "data": {
            "text/plain": [
              "array(['Male', 'Female'], dtype=object)"
            ]
          },
          "execution_count": 10,
          "metadata": {},
          "output_type": "execute_result"
        }
      ],
      "source": [
        "data['Gender'].unique()"
      ]
    },
    {
      "cell_type": "markdown",
      "id": "0d4c433f",
      "metadata": {
        "id": "0d4c433f"
      },
      "source": [
        "В столбце Gender 2 варианта - Male или Female."
      ]
    },
    {
      "cell_type": "markdown",
      "id": "2486c1c1",
      "metadata": {
        "id": "2486c1c1"
      },
      "source": [
        "Проверим уникальные значения для столбца Illness:"
      ]
    },
    {
      "cell_type": "code",
      "execution_count": null,
      "id": "7fac64ef",
      "metadata": {
        "id": "7fac64ef",
        "outputId": "2b0ddff7-7b82-4b75-d53b-318d8738e16c"
      },
      "outputs": [
        {
          "data": {
            "text/plain": [
              "array(['No', 'Yes'], dtype=object)"
            ]
          },
          "execution_count": 11,
          "metadata": {},
          "output_type": "execute_result"
        }
      ],
      "source": [
        "data['Illness'].unique()"
      ]
    },
    {
      "cell_type": "markdown",
      "id": "3b9fcdcb",
      "metadata": {
        "id": "3b9fcdcb"
      },
      "source": [
        "В столбце Illness тоже 2 варианта - No или Yes."
      ]
    },
    {
      "cell_type": "markdown",
      "id": "7973fa30",
      "metadata": {
        "id": "7973fa30"
      },
      "source": [
        "Эти три столбца можно отнести к категориальным признакам."
      ]
    },
    {
      "cell_type": "markdown",
      "id": "9d28abf9",
      "metadata": {
        "id": "9d28abf9"
      },
      "source": [
        "Уникальные значения категориальных признаков можно кодировать целыми числами. Для этого можно использовать LabelEncoder из Scikit-learn."
      ]
    },
    {
      "cell_type": "markdown",
      "id": "43d1265e",
      "metadata": {
        "id": "43d1265e"
      },
      "source": [
        "Импортируем LabelEncoder:"
      ]
    },
    {
      "cell_type": "code",
      "execution_count": null,
      "id": "138c54cf",
      "metadata": {
        "id": "138c54cf"
      },
      "outputs": [],
      "source": [
        "from sklearn.preprocessing import LabelEncoder"
      ]
    },
    {
      "cell_type": "markdown",
      "id": "ec7a447a",
      "metadata": {
        "id": "ec7a447a"
      },
      "source": [
        "Преобразуем столбец City:"
      ]
    },
    {
      "cell_type": "code",
      "execution_count": null,
      "id": "38a07c46",
      "metadata": {
        "id": "38a07c46"
      },
      "outputs": [],
      "source": [
        "letypecity = LabelEncoder()\n",
        "learrcity = letypecity.fit_transform(data[\"City\"])\n",
        "data[\"City\"] = learrcity\n",
        "data = data.astype({\"City\":\"int64\"})"
      ]
    },
    {
      "cell_type": "markdown",
      "id": "58dec9c0",
      "metadata": {
        "id": "58dec9c0"
      },
      "source": [
        "Проверим преобразование:"
      ]
    },
    {
      "cell_type": "code",
      "execution_count": null,
      "id": "9fa37645",
      "metadata": {
        "id": "9fa37645",
        "outputId": "27b031ec-d67d-4025-f11d-61a92545b9d7"
      },
      "outputs": [
        {
          "data": {
            "text/plain": [
              "array([0, 1, 2, 3, 4, 5, 6, 7])"
            ]
          },
          "execution_count": 14,
          "metadata": {},
          "output_type": "execute_result"
        }
      ],
      "source": [
        "np.unique(learrcity)"
      ]
    },
    {
      "cell_type": "markdown",
      "id": "95307614",
      "metadata": {
        "id": "95307614"
      },
      "source": [
        "Аналогично преобразуем столбцы Gender и Illness:"
      ]
    },
    {
      "cell_type": "code",
      "execution_count": null,
      "id": "e510c4ee",
      "metadata": {
        "id": "e510c4ee"
      },
      "outputs": [],
      "source": [
        "letypegender = LabelEncoder()\n",
        "learrgender = letypegender.fit_transform(data[\"Gender\"])\n",
        "data[\"Gender\"] = learrgender\n",
        "data = data.astype({\"Gender\":\"int64\"})"
      ]
    },
    {
      "cell_type": "code",
      "execution_count": null,
      "id": "0dc55241",
      "metadata": {
        "id": "0dc55241",
        "outputId": "507fa2e2-f3ca-4f17-e044-71ff25e06aa0"
      },
      "outputs": [
        {
          "data": {
            "text/plain": [
              "array([0, 1])"
            ]
          },
          "execution_count": 16,
          "metadata": {},
          "output_type": "execute_result"
        }
      ],
      "source": [
        "np.unique(learrgender)"
      ]
    },
    {
      "cell_type": "code",
      "execution_count": null,
      "id": "6b8f1616",
      "metadata": {
        "id": "6b8f1616"
      },
      "outputs": [],
      "source": [
        "letypeill = LabelEncoder()\n",
        "learrill = letypeill.fit_transform(data[\"Illness\"])\n",
        "data[\"Illness\"] = learrill\n",
        "data = data.astype({\"Illness\":\"int64\"})"
      ]
    },
    {
      "cell_type": "code",
      "execution_count": null,
      "id": "bce3f6d8",
      "metadata": {
        "id": "bce3f6d8",
        "outputId": "7740f940-8477-45b4-9300-b2930e833c0d"
      },
      "outputs": [
        {
          "data": {
            "text/plain": [
              "array([0, 1])"
            ]
          },
          "execution_count": 18,
          "metadata": {},
          "output_type": "execute_result"
        }
      ],
      "source": [
        "np.unique(learrill)"
      ]
    },
    {
      "cell_type": "markdown",
      "id": "e52e524d",
      "metadata": {
        "id": "e52e524d"
      },
      "source": [
        "Выведем типы столбцов после преобразования:"
      ]
    },
    {
      "cell_type": "code",
      "execution_count": null,
      "id": "b8ae4cc4",
      "metadata": {
        "id": "b8ae4cc4",
        "outputId": "de925a47-1b63-4e28-ce34-13827443fdfd"
      },
      "outputs": [
        {
          "data": {
            "text/plain": [
              "City         int64\n",
              "Gender       int64\n",
              "Age          int64\n",
              "Income     float64\n",
              "Illness      int64\n",
              "dtype: object"
            ]
          },
          "execution_count": 19,
          "metadata": {},
          "output_type": "execute_result"
        }
      ],
      "source": [
        "data.dtypes"
      ]
    },
    {
      "cell_type": "markdown",
      "id": "a848dfad",
      "metadata": {
        "id": "a848dfad"
      },
      "source": [
        "## Проверка наличия пропусков"
      ]
    },
    {
      "cell_type": "markdown",
      "id": "f04b56af",
      "metadata": {
        "id": "f04b56af"
      },
      "source": [
        "Проверим наличие пропусков:"
      ]
    },
    {
      "cell_type": "code",
      "execution_count": null,
      "id": "c918d176",
      "metadata": {
        "id": "c918d176",
        "outputId": "740a617f-694d-4a17-94d4-f9f749bb0aa3"
      },
      "outputs": [
        {
          "data": {
            "text/plain": [
              "City       0\n",
              "Gender     0\n",
              "Age        0\n",
              "Income     0\n",
              "Illness    0\n",
              "dtype: int64"
            ]
          },
          "execution_count": 20,
          "metadata": {},
          "output_type": "execute_result"
        }
      ],
      "source": [
        "data.isnull().sum()"
      ]
    },
    {
      "cell_type": "markdown",
      "id": "b7948596",
      "metadata": {
        "id": "b7948596"
      },
      "source": [
        "Пропусков не наблюдается."
      ]
    },
    {
      "cell_type": "markdown",
      "id": "c635e3c0",
      "metadata": {
        "id": "c635e3c0"
      },
      "source": [
        "Все предварительные преобразования были совершены, можно приступать к построению моделей."
      ]
    },
    {
      "cell_type": "markdown",
      "id": "3a147b2f",
      "metadata": {
        "id": "3a147b2f"
      },
      "source": [
        "## Разделение выборки на обучающую и тестовую"
      ]
    },
    {
      "cell_type": "markdown",
      "id": "c0aed41f",
      "metadata": {
        "id": "c0aed41f"
      },
      "source": [
        "Разделим выборку по столбцу City с помощью функции train_test_split:"
      ]
    },
    {
      "cell_type": "code",
      "execution_count": null,
      "id": "2ec80228",
      "metadata": {
        "id": "2ec80228"
      },
      "outputs": [],
      "source": [
        "from sklearn.model_selection import train_test_split"
      ]
    },
    {
      "cell_type": "code",
      "execution_count": null,
      "id": "0978c61f",
      "metadata": {
        "id": "0978c61f"
      },
      "outputs": [],
      "source": [
        "X_train, X_test, y_train, y_test = train_test_split(data, data.City, random_state=1)"
      ]
    },
    {
      "cell_type": "markdown",
      "id": "ff39ec3b",
      "metadata": {
        "id": "ff39ec3b"
      },
      "source": [
        "Размеры обучающей выборки и тестовой выборки:"
      ]
    },
    {
      "cell_type": "code",
      "execution_count": null,
      "id": "a6cd0b80",
      "metadata": {
        "id": "a6cd0b80",
        "outputId": "b4469686-e6a3-4877-eb12-3ec2b870a3cf"
      },
      "outputs": [
        {
          "data": {
            "text/plain": [
              "((112500, 5), (112500,), (37500, 5), (37500,))"
            ]
          },
          "execution_count": 23,
          "metadata": {},
          "output_type": "execute_result"
        }
      ],
      "source": [
        "X_train.shape, y_train.shape, X_test.shape, y_test.shape"
      ]
    },
    {
      "cell_type": "markdown",
      "id": "ef02b5cc",
      "metadata": {
        "id": "ef02b5cc"
      },
      "source": [
        "## Построение моделей классификации"
      ]
    },
    {
      "cell_type": "markdown",
      "id": "1f087fc3",
      "metadata": {
        "id": "1f087fc3"
      },
      "source": [
        "### Логистическая регрессия"
      ]
    },
    {
      "cell_type": "markdown",
      "id": "2738aea7",
      "metadata": {
        "id": "2738aea7"
      },
      "source": [
        "Построим модель логистической регрессии с помощью LogisticRegression:"
      ]
    },
    {
      "cell_type": "code",
      "execution_count": null,
      "id": "ed58196a",
      "metadata": {
        "id": "ed58196a"
      },
      "outputs": [],
      "source": [
        "from sklearn.linear_model import LogisticRegression"
      ]
    },
    {
      "cell_type": "code",
      "execution_count": null,
      "id": "544899a5",
      "metadata": {
        "id": "544899a5",
        "outputId": "2cbbdf6b-d24c-4a76-bb36-4b69bd49b7eb"
      },
      "outputs": [
        {
          "data": {
            "text/plain": [
              "LogisticRegression()"
            ]
          },
          "execution_count": 25,
          "metadata": {},
          "output_type": "execute_result"
        }
      ],
      "source": [
        "model_logistic = LogisticRegression()\n",
        "model_logistic.fit(X_train, y_train)"
      ]
    },
    {
      "cell_type": "code",
      "execution_count": null,
      "id": "cfd43b2e",
      "metadata": {
        "id": "cfd43b2e"
      },
      "outputs": [],
      "source": [
        "targ_logistic = model_logistic.predict(X_test)"
      ]
    },
    {
      "cell_type": "markdown",
      "id": "c3787d7f",
      "metadata": {
        "id": "c3787d7f"
      },
      "source": [
        "### Случайный лес"
      ]
    },
    {
      "cell_type": "markdown",
      "id": "55525ab9",
      "metadata": {
        "id": "55525ab9"
      },
      "source": [
        "Построим модель случайного леса с помощью RandomForestClassifier с числом соседей = 5:"
      ]
    },
    {
      "cell_type": "code",
      "execution_count": null,
      "id": "b841464c",
      "metadata": {
        "id": "b841464c"
      },
      "outputs": [],
      "source": [
        "from sklearn.ensemble import RandomForestClassifier"
      ]
    },
    {
      "cell_type": "code",
      "execution_count": null,
      "id": "0562d776",
      "metadata": {
        "id": "0562d776",
        "outputId": "442f07bf-b229-4a9f-85bf-d5a9f779389a"
      },
      "outputs": [
        {
          "data": {
            "text/plain": [
              "RandomForestClassifier(n_estimators=5, oob_score=True, random_state=100)"
            ]
          },
          "execution_count": 28,
          "metadata": {},
          "output_type": "execute_result"
        }
      ],
      "source": [
        "model_forest = RandomForestClassifier(n_estimators=5, oob_score=True, random_state=100)\n",
        "model_forest.fit(X_train, y_train)"
      ]
    },
    {
      "cell_type": "code",
      "execution_count": null,
      "id": "4fedfc11",
      "metadata": {
        "id": "4fedfc11"
      },
      "outputs": [],
      "source": [
        "targ_forest = model_forest.predict(X_test)"
      ]
    },
    {
      "cell_type": "markdown",
      "id": "6be7c0ee",
      "metadata": {
        "id": "6be7c0ee"
      },
      "source": [
        "## Оценка качества моделей"
      ]
    },
    {
      "cell_type": "markdown",
      "id": "3b564c86",
      "metadata": {
        "id": "3b564c86"
      },
      "source": [
        "Для оценки качества моделей классификации будем использовать две метрики - Accuracy и матрицу ошибок Confusion Matrix. Именно эти две метрики были выбраны, так как они помогают посчитать процент верно определенных городов и отобразить наглядно классифицированные данные."
      ]
    },
    {
      "cell_type": "code",
      "execution_count": null,
      "id": "4f9443a2",
      "metadata": {
        "id": "4f9443a2"
      },
      "outputs": [],
      "source": [
        "from sklearn.metrics import accuracy_score\n",
        "from sklearn.metrics import confusion_matrix\n",
        "from sklearn.metrics import ConfusionMatrixDisplay"
      ]
    },
    {
      "cell_type": "markdown",
      "id": "6bf560a0",
      "metadata": {
        "id": "6bf560a0"
      },
      "source": [
        "### Метрика Accuracy"
      ]
    },
    {
      "cell_type": "markdown",
      "id": "b2adad8e",
      "metadata": {
        "id": "b2adad8e"
      },
      "source": [
        "Метрика вычисляет долю в диапазоне от 0 до 1 правильно определенных классов (в нашем случае городов)."
      ]
    },
    {
      "cell_type": "markdown",
      "id": "0142066b",
      "metadata": {
        "id": "0142066b"
      },
      "source": [
        "Проверим точность по всем городам:"
      ]
    },
    {
      "cell_type": "code",
      "execution_count": null,
      "id": "0f1fded6",
      "metadata": {
        "id": "0f1fded6",
        "outputId": "0da6988e-661b-4f67-bfc3-6bc535a4a6e0"
      },
      "outputs": [
        {
          "data": {
            "text/plain": [
              "0.43216"
            ]
          },
          "execution_count": 31,
          "metadata": {},
          "output_type": "execute_result"
        }
      ],
      "source": [
        "accuracy_score(y_test, targ_logistic)"
      ]
    },
    {
      "cell_type": "code",
      "execution_count": null,
      "id": "ed200c48",
      "metadata": {
        "id": "ed200c48",
        "outputId": "416438b1-78b9-41f3-b4d7-4727eb39c931"
      },
      "outputs": [
        {
          "data": {
            "text/plain": [
              "0.9998133333333333"
            ]
          },
          "execution_count": 32,
          "metadata": {},
          "output_type": "execute_result"
        }
      ],
      "source": [
        "accuracy_score(y_test, targ_forest)"
      ]
    },
    {
      "cell_type": "markdown",
      "id": "c9d6c5a6",
      "metadata": {
        "id": "c9d6c5a6"
      },
      "source": [
        "Видно, что точность всех классов у модели случайного леса выше, чем у модели логистической регрессии."
      ]
    },
    {
      "cell_type": "markdown",
      "id": "b2bdec10",
      "metadata": {
        "id": "b2bdec10"
      },
      "source": [
        "Проверим для каждого города из City:"
      ]
    },
    {
      "cell_type": "code",
      "execution_count": null,
      "id": "09d59957",
      "metadata": {
        "id": "09d59957"
      },
      "outputs": [],
      "source": [
        "from typing import Dict, Tuple"
      ]
    },
    {
      "cell_type": "code",
      "execution_count": null,
      "id": "1e23d503",
      "metadata": {
        "id": "1e23d503"
      },
      "outputs": [],
      "source": [
        "def accuracy_score_for_classes(\n",
        "    y_true: np.ndarray,\n",
        "    y_pred: np.ndarray) -> Dict[int, float]:\n",
        "    \"\"\"\n",
        "    Вычисление метрики Accuracy для каждого класса\n",
        "    y_true - истинные значения классов\n",
        "    y_pred - предсказанные значения классов\n",
        "    Возвращает словарь: ключ - метка класса,\n",
        "    значение - Accuracy для данного класса\n",
        "    \"\"\"\n",
        "    # Для удобства фильтрации сформируем Pandas DataFrame\n",
        "    d = {'t': y_true, 'p': y_pred}\n",
        "    df = pd.DataFrame(data=d)\n",
        "    # Метки классов\n",
        "    classes = np.unique(y_true)\n",
        "    # Результирующий словарь\n",
        "    res = dict()\n",
        "    # Перебор меток классов\n",
        "    for c in classes:\n",
        "        # отфильтруем данные, которые соответствуют\n",
        "        # текущей метке класса в истинных значениях\n",
        "        temp_data_flt = df[df['t']==c]\n",
        "        # расчет accuracy для заданной метки класса\n",
        "        temp_acc = accuracy_score(\n",
        "            temp_data_flt['t'].values,\n",
        "            temp_data_flt['p'].values)\n",
        "        # сохранение результата в словарь\n",
        "        res[c] = temp_acc\n",
        "    return res\n",
        "\n",
        "def print_accuracy_score_for_classes(\n",
        "    y_true: np.ndarray,\n",
        "    y_pred: np.ndarray):\n",
        "    \"\"\"\n",
        "    Вывод метрики Accuracy для каждого класса\n",
        "    \"\"\"\n",
        "    accs = accuracy_score_for_classes(y_true, y_pred)\n",
        "    if len(accs)>0:\n",
        "        print('Город \\t Accuracy')\n",
        "    for i in accs:\n",
        "        print('{} \\t {}'.format(i, accs[i]))"
      ]
    },
    {
      "cell_type": "code",
      "execution_count": null,
      "id": "59f74d40",
      "metadata": {
        "id": "59f74d40",
        "outputId": "7bc79657-1c3a-4986-875c-0b7c6aef636a"
      },
      "outputs": [
        {
          "name": "stdout",
          "output_type": "stream",
          "text": [
            "Город \t Accuracy\n",
            "0 \t 0.0\n",
            "1 \t 0.0\n",
            "2 \t 0.7597053553653196\n",
            "3 \t 0.0\n",
            "4 \t 0.41210374639769454\n",
            "5 \t 0.8688758522276835\n",
            "6 \t 0.0\n",
            "7 \t 0.0\n"
          ]
        }
      ],
      "source": [
        "print_accuracy_score_for_classes(y_test, targ_logistic)"
      ]
    },
    {
      "cell_type": "code",
      "execution_count": null,
      "id": "9fc82219",
      "metadata": {
        "id": "9fc82219",
        "outputId": "9575dab6-0849-457e-d4e3-a1f43adfb367"
      },
      "outputs": [
        {
          "name": "stdout",
          "output_type": "stream",
          "text": [
            "Город \t Accuracy\n",
            "0 \t 0.9996776273372018\n",
            "1 \t 0.9975845410628019\n",
            "2 \t 1.0\n",
            "3 \t 0.9998752339363693\n",
            "4 \t 1.0\n",
            "5 \t 1.0\n",
            "6 \t 1.0\n",
            "7 \t 1.0\n"
          ]
        }
      ],
      "source": [
        "print_accuracy_score_for_classes(y_test, targ_forest)"
      ]
    },
    {
      "cell_type": "markdown",
      "id": "10717271",
      "metadata": {
        "id": "10717271"
      },
      "source": [
        "Наблюдаем более высокую точность у модели случайного леса."
      ]
    },
    {
      "cell_type": "markdown",
      "id": "81dd2cb2",
      "metadata": {
        "id": "81dd2cb2"
      },
      "source": [
        "### Метрика Confusion Matrix"
      ]
    },
    {
      "cell_type": "markdown",
      "id": "d807c7cb",
      "metadata": {
        "id": "d807c7cb"
      },
      "source": [
        "Построим соответствующие матрицы:"
      ]
    },
    {
      "cell_type": "code",
      "execution_count": null,
      "id": "b584275c",
      "metadata": {
        "id": "b584275c",
        "outputId": "7609bd4a-eb41-415e-e902-2bf8ea574890"
      },
      "outputs": [
        {
          "data": {
            "text/plain": [
              "array([[    0,     0,   167,     0,   345,  2590,     0,     0],\n",
              "       [    0,     0,   102,     0,   221,  1747,     0,     0],\n",
              "       [    0,     0,  3816,     0,     0,  1207,     0,     0],\n",
              "       [    0,     0,   221,     0,   953,  6841,     0,     0],\n",
              "       [    0,     0,     0,     0,  1430,  2040,     0,     0],\n",
              "       [    0,     0,   249,     0,  1405, 10960,     0,     0],\n",
              "       [    0,     0,    10,     0,   166,  1039,     0,     0],\n",
              "       [    0,     0,   554,     0,     7,  1430,     0,     0]],\n",
              "      dtype=int64)"
            ]
          },
          "execution_count": 37,
          "metadata": {},
          "output_type": "execute_result"
        }
      ],
      "source": [
        "confusion_matrix(y_test, targ_logistic, labels=[0, 1, 2, 3, 4, 5, 6, 7])"
      ]
    },
    {
      "cell_type": "code",
      "execution_count": null,
      "id": "6e740828",
      "metadata": {
        "id": "6e740828",
        "outputId": "848c99f1-552d-48bc-f8b7-b35d1666d515"
      },
      "outputs": [
        {
          "data": {
            "text/plain": [
              "array([[ 3101,     0,     1,     0,     0,     0,     0,     0],\n",
              "       [    4,  2065,     1,     0,     0,     0,     0,     0],\n",
              "       [    0,     0,  5023,     0,     0,     0,     0,     0],\n",
              "       [    0,     0,     0,  8014,     0,     1,     0,     0],\n",
              "       [    0,     0,     0,     0,  3470,     0,     0,     0],\n",
              "       [    0,     0,     0,     0,     0, 12614,     0,     0],\n",
              "       [    0,     0,     0,     0,     0,     0,  1215,     0],\n",
              "       [    0,     0,     0,     0,     0,     0,     0,  1991]],\n",
              "      dtype=int64)"
            ]
          },
          "execution_count": 38,
          "metadata": {},
          "output_type": "execute_result"
        }
      ],
      "source": [
        "confusion_matrix(y_test, targ_forest, labels=[0, 1, 2, 3, 4, 5, 6, 7])"
      ]
    },
    {
      "cell_type": "markdown",
      "id": "1acbb13a",
      "metadata": {
        "id": "1acbb13a"
      },
      "source": [
        "Визуализируем их:"
      ]
    },
    {
      "cell_type": "code",
      "execution_count": null,
      "id": "905c7a79",
      "metadata": {
        "id": "905c7a79",
        "outputId": "637dbb95-f3fa-4fd0-c5a1-e3b13c445366"
      },
      "outputs": [
        {
          "data": {
            "image/png": "[encoded data removed]",
            "text/plain": [
              "<Figure size 1080x360 with 4 Axes>"
            ]
          },
          "metadata": {
            "needs_background": "light"
          },
          "output_type": "display_data"
        }
      ],
      "source": [
        "fig, ax = plt.subplots(1, 2, sharex='col', sharey='row', figsize=(15,5))\n",
        "\n",
        "ConfusionMatrixDisplay.from_estimator(\n",
        "        model_logistic,\n",
        "        X_test,\n",
        "        y_test,\n",
        "        display_labels=model_logistic.classes_,\n",
        "        cmap=plt.cm.Blues,\n",
        "        normalize='true',\n",
        "        ax=ax[0]\n",
        "    )\n",
        "\n",
        "ConfusionMatrixDisplay.from_estimator(\n",
        "        model_forest,\n",
        "        X_test,\n",
        "        y_test,\n",
        "        display_labels=model_forest.classes_,\n",
        "        cmap=plt.cm.Blues,\n",
        "        normalize='true',\n",
        "        ax=ax[1]\n",
        "    )\n",
        "\n",
        "fig.suptitle('Матрицы ошибок')\n",
        "ax[0].title.set_text('Логистическая регрессия')\n",
        "ax[1].title.set_text('Случайный лес')"
      ]
    },
    {
      "cell_type": "markdown",
      "id": "ba174f2b",
      "metadata": {
        "id": "ba174f2b"
      },
      "source": [
        "Видно, что модель случайного леса обладает высокой точностью."
      ]
    }
  ],
  "metadata": {
    "authors": [
      {
        "name": "Анцифров Никита Сергеевич"
      }
    ],
    "group": "ИУ5-61Б",
    "kernelspec": {
      "display_name": "Python 3 (ipykernel)",
      "language": "python",
      "name": "python3"
    },
    "language_info": {
      "codemirror_mode": {
        "name": "ipython",
        "version": 3
      },
      "file_extension": ".py",
      "mimetype": "text/x-python",
      "name": "python",
      "nbconvert_exporter": "python",
      "pygments_lexer": "ipython3",
      "version": "3.9.9"
    },
    "rk_number": 2,
    "title": "Методы построения моделей машинного обучения",
    "colab": {
      "provenance": []
    }
  },
  "nbformat": 4,
  "nbformat_minor": 5
}